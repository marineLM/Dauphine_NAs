{
 "cells": [
  {
   "cell_type": "markdown",
   "id": "488c1b4e-a3fc-460e-baac-697672ea87a9",
   "metadata": {},
   "source": [
    "# Inference with missing values"
   ]
  },
  {
   "cell_type": "markdown",
   "id": "f229a06b-e22b-4e2b-bb0e-8ebe472c820b",
   "metadata": {},
   "source": [
    "Our task will be to estimate means despite of missing values with four approaches:\n",
    "* Complete-case analysis\n",
    "* Single imputation\n",
    "* Inverse Probability Weighting (IPW)\n",
    "* Augmented Inverse Probability Weighting (AIPW)"
   ]
  },
  {
   "cell_type": "code",
   "execution_count": null,
   "id": "31a7156b-9056-4b81-a7fd-63af8b8e2b49",
   "metadata": {},
   "outputs": [],
   "source": [
    "import numpy as np\n",
    "import pandas as pd\n",
    "from sklearn.impute import SimpleImputer\n",
    "from sklearn.linear_model import LogisticRegression, LinearRegression\n",
    "import matplotlib.pyplot as plt\n",
    "import seaborn as sns"
   ]
  },
  {
   "cell_type": "markdown",
   "id": "0f2ca908-163b-4d6d-a29a-7ad6b5c2dffd",
   "metadata": {},
   "source": [
    "Load functions for generating data, plots, ..."
   ]
  },
  {
   "cell_type": "code",
   "execution_count": null,
   "id": "67af652c-6ecc-4f7f-95a0-b377499e46f1",
   "metadata": {},
   "outputs": [],
   "source": [
    "from inference_utils import generate_X, generate_MCAR_missingness, generate_MAR_missingness, generate_MNAR_missingness, plot_X, plot_x1"
   ]
  },
  {
   "cell_type": "code",
   "execution_count": null,
   "id": "5c8d1668-102b-4aea-ac2d-6ab1408a1edf",
   "metadata": {},
   "outputs": [],
   "source": [
    "# Define some constants\n",
    "# analysis will be repeated n_datasets times to capture sampling variance.\n",
    "n_datasets = 30\n",
    "n_samples = 1000\n",
    "missing_rate = 0.5\n",
    "methods = ['cc', 'si', 'ipw', 'aipw']"
   ]
  },
  {
   "cell_type": "code",
   "execution_count": null,
   "id": "ce7fabdc-8556-4f49-a581-9210ee970ec5",
   "metadata": {},
   "outputs": [],
   "source": [
    "# Generate data\n",
    "X_complete = generate_X(n_samples=100, seed=0)"
   ]
  },
  {
   "cell_type": "code",
   "execution_count": null,
   "id": "a5873447-d470-4ac2-9b62-342f7d4cdf2f",
   "metadata": {},
   "outputs": [],
   "source": [
    "# Generate missing values\n",
    "X = generate_MCAR_missingness(X_complete, missing_rate, 0)"
   ]
  },
  {
   "cell_type": "code",
   "execution_count": null,
   "id": "9dae02ae-2308-4e16-873d-a77e35db5345",
   "metadata": {},
   "outputs": [],
   "source": [
    "# Plot the values of the first variable in X.\n",
    "x1 = X_complete[:, 0]\n",
    "m1 = np.isnan(X[:, 0])\n",
    "plot_x1(x1, m1)"
   ]
  },
  {
   "cell_type": "code",
   "execution_count": null,
   "id": "18ea8523-d404-4814-ab2c-e44665b3f84a",
   "metadata": {},
   "outputs": [],
   "source": [
    "# Plot the 2-dimensional data\n",
    "plot_X(X_complete, m1)"
   ]
  },
  {
   "cell_type": "markdown",
   "id": "2268141c-9dc5-405b-b045-460966af499d",
   "metadata": {},
   "source": [
    "### 1 - Complete-case estimator\n",
    "\n",
    "Complete the function below to return a mean estimated using the complete-case estimator."
   ]
  },
  {
   "cell_type": "code",
   "execution_count": null,
   "id": "01863ef5-6464-437b-9016-909f58e50013",
   "metadata": {},
   "outputs": [],
   "source": [
    "def complete_case_estimator(x):\n",
    "    \"\"\"Returns the mean of a vector with missing values, using complete-case\n",
    "    analysis.\n",
    "\n",
    "    Parameters\n",
    "    ----------\n",
    "    x: array-like of shape (n_samples, )\n",
    "        A vector with missing values.\n",
    "    \"\"\"\n",
    "    # ------------TO DO ------------"
   ]
  },
  {
   "cell_type": "markdown",
   "id": "1fc7e20b-ffab-4060-b0ea-b941974d77e4",
   "metadata": {},
   "source": [
    "Check that the complete-case estimator outputs a reasonable estimate."
   ]
  },
  {
   "cell_type": "code",
   "execution_count": null,
   "id": "a2d3d402-4d95-48a8-bab9-74a7f6bb27cd",
   "metadata": {},
   "outputs": [],
   "source": [
    "x1 = X[:, 0]\n",
    "mean_cc = complete_case_estimator(x1)\n",
    "print(f\"Complete-case estimation: {mean_cc}\")"
   ]
  },
  {
   "cell_type": "markdown",
   "id": "0949cd5a-8bdd-4355-9c12-7f8d3d5f95da",
   "metadata": {},
   "source": [
    "### 2 - Single-imputation estimator\n",
    "\n",
    "Complete the function below to return a mean estimated using single imputation."
   ]
  },
  {
   "cell_type": "code",
   "execution_count": null,
   "id": "e8d8155b-1822-4742-a5ca-10815e978163",
   "metadata": {},
   "outputs": [],
   "source": [
    "def single_imputation_estimator(x):\n",
    "    \"\"\"Returns the mean of a vector with missing values, using single\n",
    "    imputation by the mean for inference.\n",
    "\n",
    "    Parameters\n",
    "    ----------\n",
    "    x: array-like of shape (n_samples, )\n",
    "        A vector with missing values.\n",
    "    \"\"\"\n",
    "    # ------------TO DO ------------\n",
    "    # Hint: use skearn's SimpleImputer"
   ]
  },
  {
   "cell_type": "markdown",
   "id": "8ef667dc-6a43-4ee2-bb2e-c2b8201e5e09",
   "metadata": {},
   "source": [
    "Check that the single-imputation estimator outputs a reasonable estimate."
   ]
  },
  {
   "cell_type": "code",
   "execution_count": null,
   "id": "92216b77-c59a-4d0b-b877-d7fb80bfabba",
   "metadata": {},
   "outputs": [],
   "source": [
    "x1 = X[:, 0]\n",
    "mean_si = single_imputation_estimator(x1)\n",
    "print(f\"Single-Imputation estimation: {mean_si}\")"
   ]
  },
  {
   "cell_type": "markdown",
   "id": "2a00623a-f3ac-4069-a75c-5ca7c3988333",
   "metadata": {},
   "source": [
    "### 3 - Inverse Probability Weighting (IPW)\n",
    "\n",
    "Complete the function below to return a mean estimated using IPW."
   ]
  },
  {
   "cell_type": "code",
   "execution_count": null,
   "id": "dac04770-b566-46f9-8c3c-e47a9f979116",
   "metadata": {},
   "outputs": [],
   "source": [
    "def ipw_estimator(X):\n",
    "    \"\"\"Returns the mean of a vector with missing values, using inverse\n",
    "    probability weighting.\n",
    "\n",
    "    Parameters\n",
    "    ----------\n",
    "    X: array-like of shape (n_samples, 2)\n",
    "        Data with missing values only in the first column.\n",
    "    \"\"\"\n",
    "    # ------------TO DO ------------\n",
    "    # Hint: use skearn's LogisticRegression to learn the probability"
   ]
  },
  {
   "cell_type": "markdown",
   "id": "3128f6fe-3944-4f73-b9e1-c1a176b48eb8",
   "metadata": {},
   "source": [
    "Check that the IPW estimator outputs a reasonable estimate."
   ]
  },
  {
   "cell_type": "code",
   "execution_count": null,
   "id": "5310a0c9-1d2f-40cf-948b-38423bc08df1",
   "metadata": {},
   "outputs": [],
   "source": [
    "mean_ipw = ipw_estimator(X)\n",
    "print(f\"IPW estimation: {mean_ipw}\")"
   ]
  },
  {
   "cell_type": "markdown",
   "id": "d47b72bc-ab45-4215-b47f-a9e2b37e0f91",
   "metadata": {},
   "source": [
    "### 4 - Augmented Inverse Probability Weighting (AIPW)\n",
    "\n",
    "Complete the function below to return a mean estimated using AIPW."
   ]
  },
  {
   "cell_type": "code",
   "execution_count": null,
   "id": "4c862c1d-8d70-4ad5-afc6-acf091ae10a1",
   "metadata": {},
   "outputs": [],
   "source": [
    "def aipw_estimator(X):\n",
    "    \"\"\"Returns the mean of a vector with missing values, using inverse\n",
    "    probability weighting.\n",
    "\n",
    "    Parameters\n",
    "    ----------\n",
    "    X: array-like of shape (n_samples, 2)\n",
    "        Data with missing values only in the first column.\n",
    "    \"\"\"\n",
    "    # ------------TO DO ------------\n",
    "    # Hint: use skearn's LogisticRegression to learn te probability\n",
    "    # and skearn's LinearRegression to predict outcomes."
   ]
  },
  {
   "cell_type": "markdown",
   "id": "cf049004-9a28-4d3e-9cf1-29bdcaa85b76",
   "metadata": {},
   "source": [
    "Check that the AIPW estimator outputs a reasonable estimate."
   ]
  },
  {
   "cell_type": "code",
   "execution_count": null,
   "id": "d742c4c7-053c-4c0e-80d5-c7f259591821",
   "metadata": {},
   "outputs": [],
   "source": [
    "mean_aipw = aipw_estimator(X)\n",
    "print(f\"AIPW estimation: {mean_aipw}\")"
   ]
  },
  {
   "cell_type": "markdown",
   "id": "771ec4c8-0a13-4177-9c7d-243cc6b9a3cf",
   "metadata": {},
   "source": [
    "### 5 - Compare estimators\n",
    "\n",
    "we will now compare the four estimators under the 3 missing data mechanisms."
   ]
  },
  {
   "cell_type": "code",
   "execution_count": null,
   "id": "0882d596-2987-4e03-8049-8d9bd05bfa20",
   "metadata": {},
   "outputs": [],
   "source": [
    "# Perform inference using the various methods defined above on many\n",
    "# simulated datasets with different missing data mechanisms, and plot the\n",
    "# results.\n",
    "perfs = []\n",
    "for i in range(20):\n",
    "    for mdm in ['MCAR', 'MAR', 'MNAR']:\n",
    "        for method in methods:\n",
    "            # Generate data\n",
    "            X_complete = generate_X(n_samples, i)\n",
    "\n",
    "            # Generate missingness\n",
    "            if mdm == 'MCAR':\n",
    "                X = generate_MCAR_missingness(X_complete, missing_rate, i)\n",
    "            elif mdm == 'MAR':\n",
    "                X = generate_MAR_missingness(X_complete, i)\n",
    "            elif mdm == 'MNAR':\n",
    "                X = generate_MNAR_missingness(X_complete, i)\n",
    "            x = X[:, 0]\n",
    "\n",
    "            # Inference\n",
    "            if method == 'cc':\n",
    "                mean = complete_case_estimator(x)\n",
    "            elif method == 'si':\n",
    "                mean = single_imputation_estimator(x)\n",
    "            elif method == 'ipw':\n",
    "                mean = ipw_estimator(X)\n",
    "            elif method == 'aipw':\n",
    "                mean = aipw_estimator(X)\n",
    "            perf_item = {'iter': i, 'mdm': mdm, 'method': method,\n",
    "                         'mean': mean}\n",
    "            perfs.append(perf_item)\n",
    "\n",
    "df = pd.DataFrame(perfs)\n",
    "plt.axhline(y=1, color='r', linestyle='-', zorder=0)\n",
    "sns.boxplot(data=df, y='mean', x='method', hue='mdm')\n",
    "plt.show()"
   ]
  },
  {
   "cell_type": "markdown",
   "id": "a3d0c7f6-1155-4fc8-b858-d7f91c250644",
   "metadata": {},
   "source": [
    "Verify that the results you obtain are coherent with what you should obtain for the different missing data mechanisms."
   ]
  }
 ],
 "metadata": {
  "kernelspec": {
   "display_name": "Python 3 (ipykernel)",
   "language": "python",
   "name": "python3"
  },
  "language_info": {
   "codemirror_mode": {
    "name": "ipython",
    "version": 3
   },
   "file_extension": ".py",
   "mimetype": "text/x-python",
   "name": "python",
   "nbconvert_exporter": "python",
   "pygments_lexer": "ipython3",
   "version": "3.10.12"
  }
 },
 "nbformat": 4,
 "nbformat_minor": 5
}
